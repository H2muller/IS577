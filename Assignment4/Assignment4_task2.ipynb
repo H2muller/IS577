{
 "cells": [
  {
   "cell_type": "code",
   "execution_count": null,
   "metadata": {},
   "outputs": [],
   "source": [
    "#!/usr/bin/env python3\n",
    "# Written by: Hans Müller Paul\n",
    "#                           NOTES:"
   ]
  },
  {
   "cell_type": "markdown",
   "metadata": {},
   "source": [
    "**Determine starting time**"
   ]
  },
  {
   "cell_type": "code",
   "execution_count": null,
   "metadata": {},
   "outputs": [],
   "source": [
    "from datetime import datetime\n",
    "\n",
    "t0 = datetime.now()"
   ]
  },
  {
   "cell_type": "markdown",
   "metadata": {},
   "source": [
    "**Importing input file**"
   ]
  },
  {
   "cell_type": "code",
   "execution_count": 3,
   "metadata": {},
   "outputs": [],
   "source": [
    "from pandas import read_csv     #pip install pandas if this library isn't already installed\n",
    "\n",
    "with open('homework.csv', 'r') as f:\n",
    "    tweet_df = read_csv(f, header = 0, low_memory=False) #the low_memory flag is required when loading large datasets\n",
    "    del tweet_df['account_category']"
   ]
  },
  {
   "cell_type": "markdown",
   "metadata": {},
   "source": [
    "**Generating temporary dataset for faster testing:** comment out to run on entire dataset"
   ]
  },
  {
   "cell_type": "code",
   "execution_count": 4,
   "metadata": {},
   "outputs": [],
   "source": [
    "# temp_data = tweet_df.head(n=100000)"
   ]
  },
  {
   "cell_type": "markdown",
   "metadata": {},
   "source": [
    "**Vectorizing word count**"
   ]
  },
  {
   "cell_type": "code",
   "execution_count": 5,
   "metadata": {},
   "outputs": [],
   "source": [
    "from sklearn.feature_extraction.text import CountVectorizer #pip install sklearn if this library isn't already installed\n",
    "\n",
    "data_vectorizer = CountVectorizer(stop_words='english')\n",
    "tweet_data = data_vectorizer.fit_transform(tweet_df.content) #I believe this step is the equivalent to StringToWordVector on Weka\n",
    "# tweet_data = data_vectorizer.fit_transform(temp_data.content)"
   ]
  },
  {
   "cell_type": "markdown",
   "metadata": {},
   "source": [
    "**Training model #1:** Multinomial Naïve Bayes, 4-fold cross-validation"
   ]
  },
  {
   "cell_type": "code",
   "execution_count": 6,
   "metadata": {},
   "outputs": [],
   "source": [
    "from sklearn.model_selection import StratifiedKFold \n",
    "from sklearn.naive_bayes import MultinomialNB\n",
    "from sklearn.metrics import precision_score, recall_score, cohen_kappa_score\n",
    "from pandas import DataFrame\n",
    "\n",
    "X = tweet_data\n",
    "y = tweet_df['troll']\n",
    "# y = temp_data['troll']\n",
    "skf = StratifiedKFold(n_splits=4)\n",
    "model = MultinomialNB()\n",
    "metrics_list = []\n",
    "for train_index, test_index in skf.split(X,y):\n",
    "    X_train, X_test = X[train_index], X[test_index]\n",
    "    y_train, y_test = y[train_index], y[test_index]\n",
    "    model.fit(X_train,y_train)\n",
    "    accuracy = model.score(X_test, y_test)\n",
    "    precision = precision_score(y_test, model.predict(X_test))\n",
    "    recall = recall_score(y_test, model.predict(X_test))\n",
    "    kappa = cohen_kappa_score(y_test, model.predict(X_test))\n",
    "    metrics_list.append([accuracy,precision,recall,kappa])\n",
    "metrics_1 = DataFrame(metrics_list, columns=['accuracy','precision','recall','kappa_statistic'])\n"
   ]
  },
  {
   "cell_type": "markdown",
   "metadata": {},
   "source": [
    "**Reviewing metrics #1:**  Multinomial Naïve Bayes, 4-fold cross-validation"
   ]
  },
  {
   "cell_type": "code",
   "execution_count": 7,
   "metadata": {},
   "outputs": [
    {
     "name": "stdout",
     "output_type": "stream",
     "text": [
      "\n",
      "Average metrics:\n",
      "accuracy           0.801280\n",
      "precision          0.711088\n",
      "recall             0.962854\n",
      "kappa_statistic    0.611886\n",
      "dtype: float64\n",
      "\n"
     ]
    }
   ],
   "source": [
    "print(f'''\n",
    "Average metrics:\n",
    "{metrics_1.mean(axis=0)}\n",
    "''')"
   ]
  },
  {
   "cell_type": "markdown",
   "metadata": {},
   "source": [
    "**Training model #2:** Multinomial Naïve Bayes, 10-fold cross-validation"
   ]
  },
  {
   "cell_type": "code",
   "execution_count": 8,
   "metadata": {},
   "outputs": [],
   "source": [
    "from sklearn.model_selection import StratifiedKFold \n",
    "from sklearn.naive_bayes import MultinomialNB\n",
    "from sklearn.metrics import precision_score, recall_score, cohen_kappa_score\n",
    "from pandas import DataFrame\n",
    "\n",
    "X = tweet_data\n",
    "y = tweet_df['troll']\n",
    "# y = temp_data['troll']\n",
    "skf = StratifiedKFold(n_splits=10)\n",
    "model = MultinomialNB()\n",
    "metrics_list = []\n",
    "for train_index, test_index in skf.split(X,y):\n",
    "    X_train, X_test = X[train_index], X[test_index]\n",
    "    y_train, y_test = y[train_index], y[test_index]\n",
    "    model.fit(X_train,y_train)\n",
    "    accuracy = model.score(X_test, y_test)\n",
    "    precision = precision_score(y_test, model.predict(X_test))\n",
    "    recall = recall_score(y_test, model.predict(X_test))\n",
    "    kappa = cohen_kappa_score(y_test, model.predict(X_test))\n",
    "    metrics_list.append([accuracy,precision,recall,kappa])\n",
    "metrics_2 = DataFrame(metrics_list, columns=['accuracy','precision','recall','kappa_statistic'])\n"
   ]
  },
  {
   "cell_type": "markdown",
   "metadata": {},
   "source": [
    "**Reviewing metrics #2:**  Multinomial Naïve Bayes, 10-fold cross-validation"
   ]
  },
  {
   "cell_type": "code",
   "execution_count": 9,
   "metadata": {},
   "outputs": [
    {
     "name": "stdout",
     "output_type": "stream",
     "text": [
      "\n",
      "Average metrics:\n",
      "accuracy           0.825691\n",
      "precision          0.757830\n",
      "recall             0.964288\n",
      "kappa_statistic    0.661373\n",
      "dtype: float64\n",
      "\n"
     ]
    }
   ],
   "source": [
    "print(f'''\n",
    "Average metrics:\n",
    "{metrics_2.mean(axis=0)}\n",
    "''')"
   ]
  },
  {
   "cell_type": "markdown",
   "metadata": {},
   "source": [
    "**Training model #3:** Multinomial Naïve Bayes with TF/IDF, 4-fold cross-validation"
   ]
  },
  {
   "cell_type": "code",
   "execution_count": 10,
   "metadata": {},
   "outputs": [],
   "source": [
    "from sklearn.feature_extraction.text import TfidfTransformer\n",
    "from sklearn.model_selection import StratifiedKFold \n",
    "from sklearn.naive_bayes import MultinomialNB\n",
    "from sklearn.metrics import precision_score, recall_score, cohen_kappa_score\n",
    "from pandas import DataFrame\n",
    "\n",
    "tfidf_transformer = TfidfTransformer(use_idf=True).fit(tweet_data)\n",
    "tfidf_tweets = tfidf_transformer.transform(tweet_data) #this step performs a transformation from word count to TF/IDF\n",
    "\n",
    "X = tfidf_tweets\n",
    "y = tweet_df['troll']\n",
    "# y = temp_data['troll']\n",
    "skf = StratifiedKFold(n_splits=4)\n",
    "model = MultinomialNB()\n",
    "metrics_list = []\n",
    "for train_index, test_index in skf.split(X,y):\n",
    "    X_train, X_test = X[train_index], X[test_index]\n",
    "    y_train, y_test = y[train_index], y[test_index]\n",
    "    model.fit(X_train,y_train)\n",
    "    accuracy = model.score(X_test, y_test)\n",
    "    precision = precision_score(y_test, model.predict(X_test))\n",
    "    recall = recall_score(y_test, model.predict(X_test))\n",
    "    kappa = cohen_kappa_score(y_test, model.predict(X_test))\n",
    "    metrics_list.append([accuracy,precision,recall,kappa])\n",
    "metrics_3 = DataFrame(metrics_list, columns=['accuracy','precision','recall','kappa_statistic'])\n"
   ]
  },
  {
   "cell_type": "markdown",
   "metadata": {},
   "source": [
    "**Reviewing metrics #3:**  Multinomial Naïve Bayes with TF/IDF, 4-fold cross-validation"
   ]
  },
  {
   "cell_type": "code",
   "execution_count": 11,
   "metadata": {},
   "outputs": [
    {
     "name": "stdout",
     "output_type": "stream",
     "text": [
      "\n",
      "Average metrics:\n",
      "accuracy           0.822511\n",
      "precision          0.741541\n",
      "recall             0.942598\n",
      "kappa_statistic    0.650516\n",
      "dtype: float64\n",
      "\n"
     ]
    }
   ],
   "source": [
    "print(f'''\n",
    "Average metrics:\n",
    "{metrics_3.mean(axis=0)}\n",
    "''')"
   ]
  },
  {
   "cell_type": "markdown",
   "metadata": {},
   "source": [
    "**Training model #4:** Stochastic Gradient Descent Classifier, 4-fold cross-validation"
   ]
  },
  {
   "cell_type": "code",
   "execution_count": 12,
   "metadata": {},
   "outputs": [],
   "source": [
    "from sklearn.model_selection import StratifiedKFold \n",
    "from sklearn.linear_model import SGDClassifier\n",
    "from sklearn.metrics import precision_score, recall_score, cohen_kappa_score\n",
    "from pandas import DataFrame\n",
    "\n",
    "X = tweet_data\n",
    "y = tweet_df['troll']\n",
    "# y = temp_data['troll']\n",
    "skf = StratifiedKFold(n_splits=4)\n",
    "model = SGDClassifier(max_iter = 1000)\n",
    "metrics_list = []\n",
    "for train_index, test_index in skf.split(X,y):\n",
    "    X_train, X_test = X[train_index], X[test_index]\n",
    "    y_train, y_test = y[train_index], y[test_index]\n",
    "    model.fit(X_train,y_train)\n",
    "    accuracy = model.score(X_test, y_test)\n",
    "    precision = precision_score(y_test, model.predict(X_test))\n",
    "    recall = recall_score(y_test, model.predict(X_test))\n",
    "    kappa = cohen_kappa_score(y_test, model.predict(X_test))\n",
    "    metrics_list.append([accuracy,precision,recall,kappa])\n",
    "metrics_4 = DataFrame(metrics_list, columns=['accuracy','precision','recall','kappa_statistic'])\n"
   ]
  },
  {
   "cell_type": "markdown",
   "metadata": {},
   "source": [
    "**Reviewing metrics #4:**  Stochastic Gradient Descent Classifier, 4-fold cross-validation"
   ]
  },
  {
   "cell_type": "code",
   "execution_count": 13,
   "metadata": {},
   "outputs": [
    {
     "name": "stdout",
     "output_type": "stream",
     "text": [
      "\n",
      "Average metrics:\n",
      "accuracy           0.841417\n",
      "precision          0.818180\n",
      "recall             0.846675\n",
      "kappa_statistic    0.681604\n",
      "dtype: float64\n",
      "\n"
     ]
    }
   ],
   "source": [
    "print(f'''\n",
    "Average metrics:\n",
    "{metrics_4.mean(axis=0)}\n",
    "''')"
   ]
  },
  {
   "cell_type": "markdown",
   "metadata": {},
   "source": [
    "**Determine duration of run**"
   ]
  },
  {
   "cell_type": "code",
   "execution_count": 14,
   "metadata": {},
   "outputs": [
    {
     "name": "stdout",
     "output_type": "stream",
     "text": [
      "Total duration: 0:01:13.412365\n"
     ]
    }
   ],
   "source": [
    "t1 = datetime.now()\n",
    "print(f'Total duration: {(t1-t0)}')"
   ]
  },
  {
   "cell_type": "code",
   "execution_count": null,
   "metadata": {},
   "outputs": [],
   "source": []
  }
 ],
 "metadata": {
  "kernelspec": {
   "display_name": "Python 3",
   "language": "python",
   "name": "python3"
  },
  "language_info": {
   "codemirror_mode": {
    "name": "ipython",
    "version": 3
   },
   "file_extension": ".py",
   "mimetype": "text/x-python",
   "name": "python",
   "nbconvert_exporter": "python",
   "pygments_lexer": "ipython3",
   "version": "3.7.1"
  }
 },
 "nbformat": 4,
 "nbformat_minor": 4
}
